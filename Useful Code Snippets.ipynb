{
 "cells": [
  {
   "cell_type": "markdown",
   "metadata": {},
   "source": [
    "# Settings"
   ]
  },
  {
   "cell_type": "code",
   "execution_count": null,
   "metadata": {},
   "outputs": [],
   "source": [
    "#Box for imports\n",
    "import pandas as pd\n",
    "import matplotlib.pyplot as plt\n",
    "import numpy as np"
   ]
  },
  {
   "cell_type": "code",
   "execution_count": null,
   "metadata": {},
   "outputs": [],
   "source": [
    "#Expand View\n",
    "pd.set_option('display.max_columns', None)\n",
    "pd.set_option('display.max_rows', None)"
   ]
  },
  {
   "cell_type": "markdown",
   "metadata": {},
   "source": [
    "# Cleaning up a File"
   ]
  },
  {
   "cell_type": "code",
   "execution_count": null,
   "metadata": {},
   "outputs": [],
   "source": [
    "#remove unnecessary columns and rows; add Unique ID\n",
    "file = pd.read_csv(\"C:/Users/celhaddad/Documents/Ceci's Stuff/Temp_Ceci_DAISI/PDN_data.csv\", skiprows = 4, low_memory=False)\n",
    "file = file.reset_index()\n",
    "column_list = file.columns.tolist()\n",
    "column_list.remove('index')\n",
    "column_list.append('dummycolumn')\n",
    "file.columns = column_list\n",
    "file = file.drop(columns=['Unnamed: 5','dummycolumn'], errors='ignore')\n",
    "file = file.dropna(subset=['Prog Name'])\n",
    "file['Unique ID'] = file['ICCB Prog #'].astype(str)+file['Internal Student id (system generated)'].astype(str)\n",
    "file.head()"
   ]
  },
  {
   "cell_type": "code",
   "execution_count": null,
   "metadata": {},
   "outputs": [],
   "source": [
    "# Adding a Column to Update Variable Names\n",
    "efl_dictionary = {\"ABE Beginning Literacy\" : \"ABE L1\", \n",
    "\"ABE Beginning Basic Education\" : \"ABE L2\",\n",
    "\"ABE Intermediate Low\" : \"ABE L3\",\n",
    "\"ABE Intermediate High\" : \"ABE L4\",\n",
    "\"ASE Low\" : \"ABE L5\",\n",
    "\"ASE High\" : \"ABE L6\",\n",
    "\"ESL Beginning Literacy\" : \"ESL L1\",\n",
    "\"ESL Low Beginning\" : \"ESL L2\",\n",
    "\"ESL High Beginning\" : \"ESL L3\",\n",
    "\"ESL Intermediate Low\" : \"ESL L4\",\n",
    "\"ESL Intermediate High\" : \"ESL L5\",\n",
    "\"ESL Advanced\" : \"ESL L6\",\n",
    "\"ESL Exit Criteria\" : \"ESL Exit\"}\n",
    "file['EFL'] = file['Educational Functioning Level'].map(efl_dictionary)\n",
    "file['EFL@Exit'] = file['Educational Functioning Level @ Exit'].map(efl_dictionary)"
   ]
  },
  {
   "cell_type": "code",
   "execution_count": null,
   "metadata": {},
   "outputs": [],
   "source": [
    "#Rename column in two column pivot table\n",
    "table4colf = table4colfstep2[['EFL', True]].rename(columns={True:'Gained HSD/HSE (f)'})"
   ]
  },
  {
   "cell_type": "markdown",
   "metadata": {},
   "source": [
    "# PivotTables"
   ]
  },
  {
   "cell_type": "code",
   "execution_count": null,
   "metadata": {},
   "outputs": [],
   "source": [
    "#Create a PivotTable\n",
    "pivot = df.pivot_table(index=['Name of Employee'], values=['Sales'], aggfunc='sum')"
   ]
  },
  {
   "cell_type": "code",
   "execution_count": null,
   "metadata": {},
   "outputs": [],
   "source": [
    "#Reorder Columns in a PivotTable\n",
    "cats = ['M', 'F']\n",
    "file['Gender'] = pd.Categorical(file['Gender'], categories=cats, ordered=True)\n",
    "\n",
    "pivot = file.pivot_table(index=['EFL'], values=['SSN'], columns = ['Table 2 Ethnicity', 'Gender'], aggfunc='count', margins = True).fillna(0)\n",
    "pivot"
   ]
  },
  {
   "cell_type": "code",
   "execution_count": null,
   "metadata": {},
   "outputs": [],
   "source": [
    "#Merge two PivotTables\n",
    "pivot4colb = pd.DataFrame(file.pivot_table(index=['EFL'], values=['SSN'], aggfunc='count', margins = True).fillna(0))\n",
    "pivot4colb.reset_index(inplace = True)\n",
    "\n",
    "pivot4colc = pd.DataFrame(file.pivot_table(index=['EFL'], values=['total AH'], aggfunc='sum', margins = True).fillna(0))\n",
    "pivot4colc.reset_index(inplace = True)\n",
    "pivot4colsbc = pd.merge(pivot4colb, pivot4colc, 'left', on = ['EFL'])\n",
    "pivot4colsbc"
   ]
  },
  {
   "cell_type": "markdown",
   "metadata": {},
   "source": [
    "# Checking Your Work"
   ]
  },
  {
   "cell_type": "code",
   "execution_count": null,
   "metadata": {},
   "outputs": [],
   "source": [
    "#print out a specific row using the observation name\n",
    "pandas.DataFrame.iloc[]"
   ]
  },
  {
   "cell_type": "code",
   "execution_count": null,
   "metadata": {},
   "outputs": [],
   "source": [
    "#How to check to make sure there are no duplicates\n",
    "max(pivot2['Unique ID'].value_counts())"
   ]
  }
 ],
 "metadata": {
  "kernelspec": {
   "display_name": "Python 3",
   "language": "python",
   "name": "python3"
  },
  "language_info": {
   "codemirror_mode": {
    "name": "ipython",
    "version": 3
   },
   "file_extension": ".py",
   "mimetype": "text/x-python",
   "name": "python",
   "nbconvert_exporter": "python",
   "pygments_lexer": "ipython3",
   "version": "3.8.5"
  }
 },
 "nbformat": 4,
 "nbformat_minor": 4
}
