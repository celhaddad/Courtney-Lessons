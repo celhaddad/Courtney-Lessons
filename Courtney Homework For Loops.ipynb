{
 "cells": [
  {
   "cell_type": "code",
   "execution_count": 1,
   "metadata": {},
   "outputs": [],
   "source": [
    "#Box for imports\n",
    "import pandas as pd\n",
    "import matplotlib.pyplot as plt\n",
    "import numpy as np"
   ]
  },
  {
   "cell_type": "markdown",
   "metadata": {},
   "source": [
    "# Homework:\n",
    "#Loop through lister\n",
    "#Loop through each list\n",
    "#print out the max value in the whole set\n",
    "#print out the max value in each list\n",
    "#create a new list with all values from all lists combined"
   ]
  },
  {
   "cell_type": "code",
   "execution_count": 2,
   "metadata": {},
   "outputs": [],
   "source": [
    "list1 = [20,30,40,50]\n",
    "list2 = [10,11,7,-1,0]\n",
    "list3 = [80,99,12, 13]\n",
    "lister = [list1, list2, list3]"
   ]
  },
  {
   "cell_type": "code",
   "execution_count": 3,
   "metadata": {
    "scrolled": true
   },
   "outputs": [
    {
     "name": "stdout",
     "output_type": "stream",
     "text": [
      "[20, 30, 40, 50]\n",
      "[10, 11, 7, -1, 0]\n",
      "[80, 99, 12, 13]\n"
     ]
    }
   ],
   "source": [
    "#Assignment 1: Loop through lister\n",
    "for x in lister:\n",
    "    print(x)"
   ]
  },
  {
   "cell_type": "code",
   "execution_count": 4,
   "metadata": {
    "scrolled": true
   },
   "outputs": [
    {
     "name": "stdout",
     "output_type": "stream",
     "text": [
      "20\n",
      "30\n",
      "40\n",
      "50\n",
      "10\n",
      "11\n",
      "7\n",
      "-1\n",
      "0\n",
      "80\n",
      "99\n",
      "12\n",
      "13\n"
     ]
    }
   ],
   "source": [
    "#Assignment 2: Loop through each list \n",
    "for x in lister:\n",
    "    for y in x:\n",
    "        print(y)"
   ]
  },
  {
   "cell_type": "code",
   "execution_count": 15,
   "metadata": {},
   "outputs": [
    {
     "name": "stdout",
     "output_type": "stream",
     "text": [
      "A list of all numbers in lister is: [20, 30, 40, 50, 10, 11, 7, -1, 0, 80, 99, 12, 13]\n",
      "The maximum of lister is 99.\n"
     ]
    }
   ],
   "source": [
    "#Assignment 3: print out the max value in the whole set\n",
    "#Assignment 5: create a new list with all values from all lists combined\n",
    "\n",
    "big_list = []\n",
    "\n",
    "for x in lister:\n",
    "    big_list.extend(x)\n",
    "    #another option: big_list = big_list + x\n",
    "    \n",
    "print(\"A list of all numbers in lister is: {big_list}\".format(big_list=big_list))\n",
    "print(\"The maximum of lister is {biggest}.\".format(biggest=max(big_list)))"
   ]
  },
  {
   "cell_type": "code",
   "execution_count": 5,
   "metadata": {
    "scrolled": false
   },
   "outputs": [
    {
     "name": "stdout",
     "output_type": "stream",
     "text": [
      "50\n",
      "11\n",
      "99\n"
     ]
    }
   ],
   "source": [
    "#Assignment 4: print out the max value in each list\n",
    "for x in lister:\n",
    "    print(max(x))"
   ]
  },
  {
   "cell_type": "markdown",
   "metadata": {},
   "source": [
    "# Next lesson:\n",
    "#Either filtering, more nested for loops, or classes"
   ]
  }
 ],
 "metadata": {
  "kernelspec": {
   "display_name": "Python 3",
   "language": "python",
   "name": "python3"
  },
  "language_info": {
   "codemirror_mode": {
    "name": "ipython",
    "version": 3
   },
   "file_extension": ".py",
   "mimetype": "text/x-python",
   "name": "python",
   "nbconvert_exporter": "python",
   "pygments_lexer": "ipython3",
   "version": "3.8.5"
  }
 },
 "nbformat": 4,
 "nbformat_minor": 4
}
