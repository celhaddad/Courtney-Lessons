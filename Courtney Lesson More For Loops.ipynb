{
 "cells": [
  {
   "cell_type": "code",
   "execution_count": 1,
   "metadata": {},
   "outputs": [],
   "source": [
    "#Box for imports\n",
    "import pandas as pd\n",
    "import matplotlib.pyplot as plt\n",
    "import numpy as np"
   ]
  },
  {
   "cell_type": "code",
   "execution_count": 5,
   "metadata": {},
   "outputs": [
    {
     "name": "stdout",
     "output_type": "stream",
     "text": [
      "loop: 1, a\n",
      "loop: 1, b\n",
      "loop: 1, c\n"
     ]
    }
   ],
   "source": [
    "list_1 = [1,2,3,]\n",
    "list_2 = ['a', 'b','c']\n",
    "\n",
    "for x in list_1: \n",
    "    for y in list_2: \n",
    "        print(\"loop: {x}, {y}\".format(x = x, y = y))"
   ]
  },
  {
   "cell_type": "code",
   "execution_count": 3,
   "metadata": {},
   "outputs": [
    {
     "data": {
      "text/plain": [
       "'loop 2, a, 2, b, 2, c'"
      ]
     },
     "execution_count": 3,
     "metadata": {},
     "output_type": "execute_result"
    }
   ],
   "source": [
    "#Line by line, this is what's happening in the previous for loop:\n",
    "# 1\n",
    "# a\n",
    "# loop: 1, a\n",
    "# b\n",
    "# loop: 1, b\n",
    "# c\n",
    "# loop: 1, c\n",
    "# 2\n",
    "# a\n",
    "# loop: "
   ]
  },
  {
   "cell_type": "code",
   "execution_count": 6,
   "metadata": {},
   "outputs": [
    {
     "name": "stdout",
     "output_type": "stream",
     "text": [
      "On line 2 with x = 1\n",
      ">>>On line 4 with y = 7\n",
      ">>>On line 4 with y = 8\n",
      ">>>On line 4 with y = 9\n",
      "On line 2 with x = 2\n",
      ">>>On line 4 with y = 7\n",
      ">>>On line 4 with y = 8\n",
      ">>>On line 4 with y = 9\n",
      "On line 2 with x = 3\n",
      ">>>On line 4 with y = 7\n",
      ">>>On line 4 with y = 8\n",
      ">>>On line 4 with y = 9\n"
     ]
    }
   ],
   "source": [
    "for x in range(1,4): #range(starting number, ending number+1, interval=1)\n",
    "    print(\"On line 2 with x = {x}\".format(x = x))\n",
    "    for y in range(7,10):\n",
    "        print(\">>>On line 4 with y = {y}\".format(y = y))"
   ]
  },
  {
   "cell_type": "code",
   "execution_count": null,
   "metadata": {},
   "outputs": [],
   "source": [
    "#Output of previous for loop\n",
    "\"On line 2 with x = 1\"\n",
    "\">>>On line 4 with y = 7\"\n",
    "\">>>On line 4 with y = 8\"\n",
    "\">>>On line 4 with y = 9\"\n",
    "\">>>On line 4 with y = 10\"\n",
    "\"On line 2 with x = 2\""
   ]
  },
  {
   "cell_type": "code",
   "execution_count": 10,
   "metadata": {},
   "outputs": [
    {
     "name": "stdout",
     "output_type": "stream",
     "text": [
      "2\n"
     ]
    }
   ],
   "source": [
    "data = pd.DataFrame({'letter': ['a','b','c'],'number': [1,2,3]})\n",
    "\n",
    "for w, row in data.iterrows(): #python sees data.iterrows(), then assigns index to first variable and variable inside each row to second variable\n",
    "    if w==1:\n",
    "        print(row['number'])"
   ]
  },
  {
   "cell_type": "code",
   "execution_count": null,
   "metadata": {},
   "outputs": [],
   "source": [
    "data.sort_values(by = 'letter',ascending = false).reset_index().drop(columns = ['number'])"
   ]
  },
  {
   "cell_type": "code",
   "execution_count": null,
   "metadata": {},
   "outputs": [],
   "source": [
    "def functioner(data): \n",
    "    print(data.head())\n",
    "    \n",
    "functioner(data.sort_values(by = 'letter',ascending = False).reset_index())"
   ]
  }
 ],
 "metadata": {
  "kernelspec": {
   "display_name": "Python 3",
   "language": "python",
   "name": "python3"
  },
  "language_info": {
   "codemirror_mode": {
    "name": "ipython",
    "version": 3
   },
   "file_extension": ".py",
   "mimetype": "text/x-python",
   "name": "python",
   "nbconvert_exporter": "python",
   "pygments_lexer": "ipython3",
   "version": "3.8.5"
  }
 },
 "nbformat": 4,
 "nbformat_minor": 4
}
